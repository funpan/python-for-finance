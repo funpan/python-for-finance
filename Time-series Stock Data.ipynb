{
 "cells": [
  {
   "cell_type": "code",
   "execution_count": 1,
   "metadata": {
    "collapsed": false
   },
   "outputs": [
    {
     "name": "stderr",
     "output_type": "stream",
     "text": [
      "/Users/funpan/anaconda/lib/python2.7/site-packages/pandas/io/data.py:33: FutureWarning: \n",
      "The pandas.io.data module is moved to a separate package (pandas-datareader) and will be removed from pandas in a future version.\n",
      "After installing the pandas-datareader package (https://github.com/pydata/pandas-datareader), you can change the import ``from pandas.io import data, wb`` to ``from pandas_datareader import data, wb``.\n",
      "  FutureWarning)\n"
     ]
    }
   ],
   "source": [
    "import pandas as pd\n",
    "import pandas.io.data\n",
    "import numpy as np\n",
    "import datetime\n",
    "import matplotlib.pyplot as plt\n"
   ]
  },
  {
   "cell_type": "code",
   "execution_count": 8,
   "metadata": {
    "collapsed": true
   },
   "outputs": [],
   "source": [
    "import pandas as pd\n",
    "import pandas_datareader.data as web\n",
    "import numpy as np\n",
    "import datetime\n",
    "import matplotlib.pyplot as plt\n"
   ]
  },
  {
   "cell_type": "code",
   "execution_count": 9,
   "metadata": {
    "collapsed": true
   },
   "outputs": [],
   "source": [
    "pd.set_option('display.notebook_repr_html', False)\n",
    "pd.set_option('display.max_columns', 6)\n",
    "pd.set_option('display.max_rows', 10)\n",
    "pd.set_option('display.width', 78)\n",
    "pd.set_option('precision', 3)"
   ]
  },
  {
   "cell_type": "code",
   "execution_count": 26,
   "metadata": {
    "collapsed": false
   },
   "outputs": [
    {
     "data": {
      "text/plain": [
       "             Open   High    Low  Close    Volume  Adj Close\n",
       "Date                                                       \n",
       "2012-01-03  26.55  26.96  26.39  26.77  64731500     23.773\n",
       "2012-01-04  26.82  27.47  26.78  27.40  80516100     24.333\n",
       "2012-01-05  27.38  27.73  27.29  27.68  56081400     24.581\n",
       "2012-01-06  27.53  28.19  27.53  28.11  99455500     24.963\n",
       "2012-01-09  28.05  28.10  27.72  27.74  59706800     24.635"
      ]
     },
     "execution_count": 26,
     "metadata": {},
     "output_type": "execute_result"
    }
   ],
   "source": [
    "start = datetime.date(2012, 1, 1)\n",
    "end = datetime.date(2014, 12, 31)\n",
    "\n",
    "msft = web.DataReader('MSFT', 'yahoo', start, end)\n",
    "msft[:5]"
   ]
  },
  {
   "cell_type": "code",
   "execution_count": 32,
   "metadata": {
    "collapsed": true
   },
   "outputs": [],
   "source": [
    "# Fetching historical stock data from Yahoo Finance\n",
    "\n",
    "def get(tickers, start, end):\n",
    "    def data(ticker):\n",
    "        return web.DataReader(ticker, 'yahoo', start, end)\n",
    "    datas = map(data, tickers)\n",
    "    return pd.concat(datas, keys=tickers, names=['Ticker', 'Date'])"
   ]
  },
  {
   "cell_type": "code",
   "execution_count": 34,
   "metadata": {
    "collapsed": false
   },
   "outputs": [
    {
     "data": {
      "text/plain": [
       "                     Open    High     Low   Close    Volume  Adj Close\n",
       "Ticker Date                                                           \n",
       "AAPL   2012-01-03  409.40  412.50  409.00  411.23  75555200     54.405\n",
       "       2012-01-04  410.00  414.68  409.28  413.44  65005500     54.697\n",
       "       2012-01-05  414.95  418.55  412.67  418.03  67817400     55.305\n",
       "       2012-01-06  419.77  422.75  419.22  422.40  79573200     55.883\n",
       "       2012-01-09  425.50  427.75  421.35  421.73  98506100     55.794"
      ]
     },
     "execution_count": 34,
     "metadata": {},
     "output_type": "execute_result"
    }
   ],
   "source": [
    "tickers = ['AAPL', 'MSFT', 'GE', 'IBM', 'AA', 'DAL', 'UAL', 'PEP', 'KO']\n",
    "all_data = get(tickers, start, end)\n",
    "all_data[:5]"
   ]
  },
  {
   "cell_type": "code",
   "execution_count": 36,
   "metadata": {
    "collapsed": false
   },
   "outputs": [
    {
     "data": {
      "text/plain": [
       "               Open     High      Low    Close      Volume  Adj Close\n",
       "Date                                                                 \n",
       "2012-01-03  1258.86  1284.62  1258.86  1277.06  3943710000    1277.06\n",
       "2012-01-04  1277.03  1278.73  1268.10  1277.30  3592580000    1277.30\n",
       "2012-01-05  1277.30  1283.05  1265.26  1281.06  4315950000    1281.06\n",
       "2012-01-06  1280.93  1281.84  1273.34  1277.81  3656830000    1277.81\n",
       "2012-01-09  1277.83  1281.99  1274.55  1280.70  3371600000    1280.70"
      ]
     },
     "execution_count": 36,
     "metadata": {},
     "output_type": "execute_result"
    }
   ],
   "source": [
    "# Fetching index data from Yahoo Finance\n",
    "\n",
    "sp_500 = web.DataReader(\"^GSPC\", \"yahoo\", start, end)\n",
    "sp_500[:5]\n"
   ]
  },
  {
   "cell_type": "code",
   "execution_count": 37,
   "metadata": {
    "collapsed": false
   },
   "outputs": [
    {
     "data": {
      "text/plain": [
       "  Ticker       Date  Adj Close\n",
       "0   AAPL 2012-01-03     54.405\n",
       "1   AAPL 2012-01-04     54.697\n",
       "2   AAPL 2012-01-05     55.305\n",
       "3   AAPL 2012-01-06     55.883\n",
       "4   AAPL 2012-01-09     55.794"
      ]
     },
     "execution_count": 37,
     "metadata": {},
     "output_type": "execute_result"
    }
   ],
   "source": [
    "# Visualizing financial time-series data\n",
    "\n",
    "# reset the index to make everything columns\n",
    "just_closing_prices = all_data[['Adj Close']].reset_index()\n",
    "just_closing_prices[:5]"
   ]
  },
  {
   "cell_type": "code",
   "execution_count": null,
   "metadata": {
    "collapsed": true
   },
   "outputs": [],
   "source": []
  }
 ],
 "metadata": {
  "kernelspec": {
   "display_name": "Python 2",
   "language": "python",
   "name": "python2"
  },
  "language_info": {
   "codemirror_mode": {
    "name": "ipython",
    "version": 2
   },
   "file_extension": ".py",
   "mimetype": "text/x-python",
   "name": "python",
   "nbconvert_exporter": "python",
   "pygments_lexer": "ipython2",
   "version": "2.7.11"
  }
 },
 "nbformat": 4,
 "nbformat_minor": 0
}
